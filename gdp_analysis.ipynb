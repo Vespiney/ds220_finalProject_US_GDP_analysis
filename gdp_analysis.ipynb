{
 "cells": [
  {
   "cell_type": "markdown",
   "id": "506eb5a1",
   "metadata": {},
   "source": [
    "# U.S. GDP Trend Analysis using World Bank Data\n",
    "\n",
    "GDP (Gross Domestic Product) is one of the most important economic indicators used to gauge the health of a country's economy. In this project, we analyze the historical GDP trends of the United States from 1960 to 2022 using data from the World Bank. The goal is to answer questions about U.S. economic growth, identify periods of recession or strong performance, and extract insights from long-term trends.\n",
    "\n",
    "This project follows a structured data analysis process, from importing and preparing the data, to analyzing and visualizing it."
   ]
  },
  {
   "cell_type": "code",
   "execution_count": 15,
   "id": "97d609e9",
   "metadata": {},
   "outputs": [
    {
     "data": {
      "application/vnd.microsoft.datawrangler.viewer.v0+json": {
       "columns": [
        {
         "name": "index",
         "rawType": "int64",
         "type": "integer"
        },
        {
         "name": "Country Name",
         "rawType": "object",
         "type": "string"
        },
        {
         "name": "Country Code",
         "rawType": "object",
         "type": "string"
        },
        {
         "name": "Indicator Name",
         "rawType": "object",
         "type": "string"
        },
        {
         "name": "Indicator Code",
         "rawType": "object",
         "type": "string"
        },
        {
         "name": "1960",
         "rawType": "float64",
         "type": "float"
        },
        {
         "name": "1961",
         "rawType": "float64",
         "type": "float"
        },
        {
         "name": "1962",
         "rawType": "float64",
         "type": "float"
        },
        {
         "name": "1963",
         "rawType": "float64",
         "type": "float"
        },
        {
         "name": "1964",
         "rawType": "float64",
         "type": "float"
        },
        {
         "name": "1965",
         "rawType": "float64",
         "type": "float"
        },
        {
         "name": "1966",
         "rawType": "float64",
         "type": "float"
        },
        {
         "name": "1967",
         "rawType": "float64",
         "type": "float"
        },
        {
         "name": "1968",
         "rawType": "float64",
         "type": "float"
        },
        {
         "name": "1969",
         "rawType": "float64",
         "type": "float"
        },
        {
         "name": "1970",
         "rawType": "float64",
         "type": "float"
        },
        {
         "name": "1971",
         "rawType": "float64",
         "type": "float"
        },
        {
         "name": "1972",
         "rawType": "float64",
         "type": "float"
        },
        {
         "name": "1973",
         "rawType": "float64",
         "type": "float"
        },
        {
         "name": "1974",
         "rawType": "float64",
         "type": "float"
        },
        {
         "name": "1975",
         "rawType": "float64",
         "type": "float"
        },
        {
         "name": "1976",
         "rawType": "float64",
         "type": "float"
        },
        {
         "name": "1977",
         "rawType": "float64",
         "type": "float"
        },
        {
         "name": "1978",
         "rawType": "float64",
         "type": "float"
        },
        {
         "name": "1979",
         "rawType": "float64",
         "type": "float"
        },
        {
         "name": "1980",
         "rawType": "float64",
         "type": "float"
        },
        {
         "name": "1981",
         "rawType": "float64",
         "type": "float"
        },
        {
         "name": "1982",
         "rawType": "float64",
         "type": "float"
        },
        {
         "name": "1983",
         "rawType": "float64",
         "type": "float"
        },
        {
         "name": "1984",
         "rawType": "float64",
         "type": "float"
        },
        {
         "name": "1985",
         "rawType": "float64",
         "type": "float"
        },
        {
         "name": "1986",
         "rawType": "float64",
         "type": "float"
        },
        {
         "name": "1987",
         "rawType": "float64",
         "type": "float"
        },
        {
         "name": "1988",
         "rawType": "float64",
         "type": "float"
        },
        {
         "name": "1989",
         "rawType": "float64",
         "type": "float"
        },
        {
         "name": "1990",
         "rawType": "float64",
         "type": "float"
        },
        {
         "name": "1991",
         "rawType": "float64",
         "type": "float"
        },
        {
         "name": "1992",
         "rawType": "float64",
         "type": "float"
        },
        {
         "name": "1993",
         "rawType": "float64",
         "type": "float"
        },
        {
         "name": "1994",
         "rawType": "float64",
         "type": "float"
        },
        {
         "name": "1995",
         "rawType": "float64",
         "type": "float"
        },
        {
         "name": "1996",
         "rawType": "float64",
         "type": "float"
        },
        {
         "name": "1997",
         "rawType": "float64",
         "type": "float"
        },
        {
         "name": "1998",
         "rawType": "float64",
         "type": "float"
        },
        {
         "name": "1999",
         "rawType": "float64",
         "type": "float"
        },
        {
         "name": "2000",
         "rawType": "float64",
         "type": "float"
        },
        {
         "name": "2001",
         "rawType": "float64",
         "type": "float"
        },
        {
         "name": "2002",
         "rawType": "float64",
         "type": "float"
        },
        {
         "name": "2003",
         "rawType": "float64",
         "type": "float"
        },
        {
         "name": "2004",
         "rawType": "float64",
         "type": "float"
        },
        {
         "name": "2005",
         "rawType": "float64",
         "type": "float"
        },
        {
         "name": "2006",
         "rawType": "float64",
         "type": "float"
        },
        {
         "name": "2007",
         "rawType": "float64",
         "type": "float"
        },
        {
         "name": "2008",
         "rawType": "float64",
         "type": "float"
        },
        {
         "name": "2009",
         "rawType": "float64",
         "type": "float"
        },
        {
         "name": "2010",
         "rawType": "float64",
         "type": "float"
        },
        {
         "name": "2011",
         "rawType": "float64",
         "type": "float"
        },
        {
         "name": "2012",
         "rawType": "float64",
         "type": "float"
        },
        {
         "name": "2013",
         "rawType": "float64",
         "type": "float"
        },
        {
         "name": "2014",
         "rawType": "float64",
         "type": "float"
        },
        {
         "name": "2015",
         "rawType": "float64",
         "type": "float"
        },
        {
         "name": "2016",
         "rawType": "float64",
         "type": "float"
        },
        {
         "name": "2017",
         "rawType": "float64",
         "type": "float"
        },
        {
         "name": "2018",
         "rawType": "float64",
         "type": "float"
        },
        {
         "name": "2019",
         "rawType": "float64",
         "type": "float"
        },
        {
         "name": "2020",
         "rawType": "float64",
         "type": "float"
        },
        {
         "name": "2021",
         "rawType": "float64",
         "type": "float"
        },
        {
         "name": "2022",
         "rawType": "float64",
         "type": "float"
        },
        {
         "name": "2023",
         "rawType": "float64",
         "type": "float"
        },
        {
         "name": "2024",
         "rawType": "float64",
         "type": "float"
        },
        {
         "name": "Unnamed: 69",
         "rawType": "float64",
         "type": "float"
        }
       ],
       "conversionMethod": "pd.DataFrame",
       "ref": "eb5db0ff-9160-401c-baff-b301df0e414c",
       "rows": [
        [
         "0",
         "Aruba",
         "ABW",
         "GDP (current US$)",
         "NY.GDP.MKTP.CD",
         null,
         null,
         null,
         null,
         null,
         null,
         null,
         null,
         null,
         null,
         null,
         null,
         null,
         null,
         null,
         null,
         null,
         null,
         null,
         null,
         null,
         null,
         null,
         null,
         null,
         null,
         "405586592.178771",
         "487709497.206704",
         "596648044.692737",
         "695530726.256983",
         "764804469.273743",
         "872067039.106145",
         "958659217.877095",
         "1083240223.46369",
         "1245810055.86592",
         "1320670391.06145",
         "1379888268.15642",
         "1531843575.41899",
         "1665363128.49162",
         "1722905027.93296",
         "1873452513.96648",
         "1896456983.24022",
         "1961843575.41899",
         "2044111731.84358",
         "2254830726.25698",
         "2360017318.43575",
         "2469782681.56425",
         "2677641340.78212",
         "2843024581.00559",
         "2553793296.08939",
         "2453597206.70391",
         "2637859217.87709",
         "2615208379.88827",
         "2727849720.67039",
         "2790849720.67039",
         "2962907262.56983",
         "2983635195.53073",
         "3092429050.27933",
         "3276184357.5419",
         "3395798882.68156",
         "2481857122.8401",
         "2929446578.25104",
         "3279343543.60416",
         "3648573136.15155",
         null,
         null
        ],
        [
         "1",
         "Africa Eastern and Southern",
         "AFE",
         "GDP (current US$)",
         "NY.GDP.MKTP.CD",
         "24210632546.4092",
         "24963977550.732",
         "27078797298.7705",
         "31775749181.2381",
         "30285794056.9305",
         "33813171214.3178",
         "36934974916.7944",
         "38452170915.8701",
         "41750716742.6708",
         "47058301051.0907",
         "47603733607.8466",
         "52199396058.8775",
         "56737525054.6426",
         "73098451708.7216",
         "89554214418.5948",
         "95315090874.5604",
         "96025945909.7116",
         "109230767189.887",
         "124109354266.774",
         "142129549067.435",
         "178509359261.97",
         "185163153183.273",
         "178405098013.479",
         "185822573393.842",
         "170100082132.498",
         "149398169631.57",
         "160637695746.53",
         "190274540364.314",
         "207470327239.547",
         "220712471558.904",
         "256512313442.55",
         "276493655917.114",
         "241276314848.928",
         "240096330186.925",
         "243571151197.461",
         "273433178583.626",
         "273531010588.088",
         "288377674812.452",
         "268833477662.21",
         "265429291101.256",
         "287201650974.243",
         "260992227761.932",
         "267815037121.332",
         "355716369350.727",
         "442696185950.818",
         "516661066397.697",
         "580240750094.055",
         "665598700905.863",
         "713502105895.915",
         "715485327512.248",
         "849409658497.578",
         "945439148517.755",
         "952998559818.562",
         "962394917490.248",
         "978708260612.874",
         "898277807343.005",
         "828942805457.755",
         "972998927353.678",
         "1012306000425.25",
         "1009721174054.91",
         "933391782089.617",
         "1085745178850.97",
         "1191423176242.96",
         "1245472471675.95",
         null,
         null
        ],
        [
         "2",
         "Afghanistan",
         "AFG",
         "GDP (current US$)",
         "NY.GDP.MKTP.CD",
         null,
         null,
         null,
         null,
         null,
         null,
         null,
         null,
         null,
         null,
         null,
         null,
         null,
         null,
         null,
         null,
         null,
         null,
         null,
         null,
         null,
         null,
         null,
         null,
         null,
         null,
         null,
         null,
         null,
         null,
         null,
         null,
         null,
         null,
         null,
         null,
         null,
         null,
         null,
         null,
         "3521418059.92345",
         "2813571753.87253",
         "3825701438.99963",
         "4520946818.54581",
         "5224896718.67782",
         "6203256538.70967",
         "6971758282.29351",
         "9747886187.39393",
         "10109297047.5432",
         "12416152732.0567",
         "15856668555.8336",
         "17805098206.3141",
         "19907329777.5872",
         "20146416757.5987",
         "20497128555.6972",
         "19134221644.7325",
         "18116572395.0772",
         "18753456497.8159",
         "18053222687.4126",
         "18799444490.1128",
         "19955929052.1496",
         "14259995441.0759",
         "14497243872.1337",
         "17233051620.1117",
         null,
         null
        ],
        [
         "3",
         "Africa Western and Central",
         "AFW",
         "GDP (current US$)",
         "NY.GDP.MKTP.CD",
         "11904954209.7913",
         "12707877772.0913",
         "13630758805.127",
         "14469094143.8507",
         "15803761887.017",
         "16921087954.573",
         "18034172573.2587",
         "16493747239.3111",
         "17022809177.1935",
         "19301432647.6235",
         "26697257158.4935",
         "24497091507.9669",
         "29489793286.494",
         "36891093307.3507",
         "49687843306.2775",
         "57280830631.7763",
         "68386405203.2096",
         "71790392858.7692",
         "78779062952.6865",
         "96682270600.3441",
         "120501289650.444",
         "216910928971.236",
         "195918303003.476",
         "151222588533.416",
         "131218181008.632",
         "137802915726.013",
         "109237001606.148",
         "112294774135.922",
         "111227154872.419",
         "103934371472.964",
         "123711320874.115",
         "129941883767.738",
         "124599331246.066",
         "129732604186.556",
         "134776834335.371",
         "207176966923.154",
         "262600874262.366",
         "275742250432.718",
         "296152427996.975",
         "139468349993.665",
         "142140075688.035",
         "150058483119.277",
         "179390065404.769",
         "207754986627.128",
         "256907774242.77",
         "313327532014.413",
         "398139655913.586",
         "466883688400.501",
         "569321671765.097",
         "509917730290.988",
         "600152668678.288",
         "683888129140.775",
         "739938079289.657",
         "836937363389.634",
         "897415713447.017",
         "771766914345.161",
         "694360980069.456",
         "687849196676.202",
         "770494988148.76",
         "826483769985.129",
         "789801651563.294",
         "849312422223.205",
         "883973910898.854",
         "799105950273.831",
         null,
         null
        ],
        [
         "4",
         "Angola",
         "AGO",
         "GDP (current US$)",
         "NY.GDP.MKTP.CD",
         null,
         null,
         null,
         null,
         null,
         null,
         null,
         null,
         null,
         null,
         null,
         null,
         null,
         null,
         null,
         null,
         null,
         null,
         null,
         null,
         "5930503400.96263",
         "5550483035.96497",
         "5550483035.96497",
         "5784341596.36339",
         "6131475065.17815",
         "7554065410.121",
         "7072536108.69711",
         "8084412414.26566",
         "8769836768.83482",
         "10201780976.6696",
         "11229515599.3048",
         "10603784541.197",
         "8307810973.58848",
         "5768720421.61367",
         "4438321017.39068",
         "5538749259.94714",
         "7526446605.51712",
         "7648377412.83277",
         "6506229607.29432",
         "6152923310.44546",
         "9129594970.15301",
         "8936079117.73136",
         "15285592370.374",
         "17812704586.4397",
         "23552057679.4994",
         "36970900883.8109",
         "52381025141.4268",
         "65266415494.2584",
         "88538665084.8634",
         "70307196181.6539",
         "83799474069.7315",
         "111789747670.59",
         "128052915766.343",
         "132339109040.232",
         "135966802586.713",
         "90496420506.5957",
         "52761617225.9253",
         "73690154990.7312",
         "79450688259.3664",
         "70897962732.0277",
         "48501561203.5686",
         "66505129987.7235",
         "104399746853.401",
         "84824654481.7249",
         null,
         null
        ]
       ],
       "shape": {
        "columns": 70,
        "rows": 5
       }
      },
      "text/html": [
       "<div>\n",
       "<style scoped>\n",
       "    .dataframe tbody tr th:only-of-type {\n",
       "        vertical-align: middle;\n",
       "    }\n",
       "\n",
       "    .dataframe tbody tr th {\n",
       "        vertical-align: top;\n",
       "    }\n",
       "\n",
       "    .dataframe thead th {\n",
       "        text-align: right;\n",
       "    }\n",
       "</style>\n",
       "<table border=\"1\" class=\"dataframe\">\n",
       "  <thead>\n",
       "    <tr style=\"text-align: right;\">\n",
       "      <th></th>\n",
       "      <th>Country Name</th>\n",
       "      <th>Country Code</th>\n",
       "      <th>Indicator Name</th>\n",
       "      <th>Indicator Code</th>\n",
       "      <th>1960</th>\n",
       "      <th>1961</th>\n",
       "      <th>1962</th>\n",
       "      <th>1963</th>\n",
       "      <th>1964</th>\n",
       "      <th>1965</th>\n",
       "      <th>...</th>\n",
       "      <th>2016</th>\n",
       "      <th>2017</th>\n",
       "      <th>2018</th>\n",
       "      <th>2019</th>\n",
       "      <th>2020</th>\n",
       "      <th>2021</th>\n",
       "      <th>2022</th>\n",
       "      <th>2023</th>\n",
       "      <th>2024</th>\n",
       "      <th>Unnamed: 69</th>\n",
       "    </tr>\n",
       "  </thead>\n",
       "  <tbody>\n",
       "    <tr>\n",
       "      <th>0</th>\n",
       "      <td>Aruba</td>\n",
       "      <td>ABW</td>\n",
       "      <td>GDP (current US$)</td>\n",
       "      <td>NY.GDP.MKTP.CD</td>\n",
       "      <td>NaN</td>\n",
       "      <td>NaN</td>\n",
       "      <td>NaN</td>\n",
       "      <td>NaN</td>\n",
       "      <td>NaN</td>\n",
       "      <td>NaN</td>\n",
       "      <td>...</td>\n",
       "      <td>2.983635e+09</td>\n",
       "      <td>3.092429e+09</td>\n",
       "      <td>3.276184e+09</td>\n",
       "      <td>3.395799e+09</td>\n",
       "      <td>2.481857e+09</td>\n",
       "      <td>2.929447e+09</td>\n",
       "      <td>3.279344e+09</td>\n",
       "      <td>3.648573e+09</td>\n",
       "      <td>NaN</td>\n",
       "      <td>NaN</td>\n",
       "    </tr>\n",
       "    <tr>\n",
       "      <th>1</th>\n",
       "      <td>Africa Eastern and Southern</td>\n",
       "      <td>AFE</td>\n",
       "      <td>GDP (current US$)</td>\n",
       "      <td>NY.GDP.MKTP.CD</td>\n",
       "      <td>2.421063e+10</td>\n",
       "      <td>2.496398e+10</td>\n",
       "      <td>2.707880e+10</td>\n",
       "      <td>3.177575e+10</td>\n",
       "      <td>3.028579e+10</td>\n",
       "      <td>3.381317e+10</td>\n",
       "      <td>...</td>\n",
       "      <td>8.289428e+11</td>\n",
       "      <td>9.729989e+11</td>\n",
       "      <td>1.012306e+12</td>\n",
       "      <td>1.009721e+12</td>\n",
       "      <td>9.333918e+11</td>\n",
       "      <td>1.085745e+12</td>\n",
       "      <td>1.191423e+12</td>\n",
       "      <td>1.245472e+12</td>\n",
       "      <td>NaN</td>\n",
       "      <td>NaN</td>\n",
       "    </tr>\n",
       "    <tr>\n",
       "      <th>2</th>\n",
       "      <td>Afghanistan</td>\n",
       "      <td>AFG</td>\n",
       "      <td>GDP (current US$)</td>\n",
       "      <td>NY.GDP.MKTP.CD</td>\n",
       "      <td>NaN</td>\n",
       "      <td>NaN</td>\n",
       "      <td>NaN</td>\n",
       "      <td>NaN</td>\n",
       "      <td>NaN</td>\n",
       "      <td>NaN</td>\n",
       "      <td>...</td>\n",
       "      <td>1.811657e+10</td>\n",
       "      <td>1.875346e+10</td>\n",
       "      <td>1.805322e+10</td>\n",
       "      <td>1.879944e+10</td>\n",
       "      <td>1.995593e+10</td>\n",
       "      <td>1.426000e+10</td>\n",
       "      <td>1.449724e+10</td>\n",
       "      <td>1.723305e+10</td>\n",
       "      <td>NaN</td>\n",
       "      <td>NaN</td>\n",
       "    </tr>\n",
       "    <tr>\n",
       "      <th>3</th>\n",
       "      <td>Africa Western and Central</td>\n",
       "      <td>AFW</td>\n",
       "      <td>GDP (current US$)</td>\n",
       "      <td>NY.GDP.MKTP.CD</td>\n",
       "      <td>1.190495e+10</td>\n",
       "      <td>1.270788e+10</td>\n",
       "      <td>1.363076e+10</td>\n",
       "      <td>1.446909e+10</td>\n",
       "      <td>1.580376e+10</td>\n",
       "      <td>1.692109e+10</td>\n",
       "      <td>...</td>\n",
       "      <td>6.943610e+11</td>\n",
       "      <td>6.878492e+11</td>\n",
       "      <td>7.704950e+11</td>\n",
       "      <td>8.264838e+11</td>\n",
       "      <td>7.898017e+11</td>\n",
       "      <td>8.493124e+11</td>\n",
       "      <td>8.839739e+11</td>\n",
       "      <td>7.991060e+11</td>\n",
       "      <td>NaN</td>\n",
       "      <td>NaN</td>\n",
       "    </tr>\n",
       "    <tr>\n",
       "      <th>4</th>\n",
       "      <td>Angola</td>\n",
       "      <td>AGO</td>\n",
       "      <td>GDP (current US$)</td>\n",
       "      <td>NY.GDP.MKTP.CD</td>\n",
       "      <td>NaN</td>\n",
       "      <td>NaN</td>\n",
       "      <td>NaN</td>\n",
       "      <td>NaN</td>\n",
       "      <td>NaN</td>\n",
       "      <td>NaN</td>\n",
       "      <td>...</td>\n",
       "      <td>5.276162e+10</td>\n",
       "      <td>7.369015e+10</td>\n",
       "      <td>7.945069e+10</td>\n",
       "      <td>7.089796e+10</td>\n",
       "      <td>4.850156e+10</td>\n",
       "      <td>6.650513e+10</td>\n",
       "      <td>1.043997e+11</td>\n",
       "      <td>8.482465e+10</td>\n",
       "      <td>NaN</td>\n",
       "      <td>NaN</td>\n",
       "    </tr>\n",
       "  </tbody>\n",
       "</table>\n",
       "<p>5 rows × 70 columns</p>\n",
       "</div>"
      ],
      "text/plain": [
       "                  Country Name Country Code     Indicator Name  \\\n",
       "0                        Aruba          ABW  GDP (current US$)   \n",
       "1  Africa Eastern and Southern          AFE  GDP (current US$)   \n",
       "2                  Afghanistan          AFG  GDP (current US$)   \n",
       "3   Africa Western and Central          AFW  GDP (current US$)   \n",
       "4                       Angola          AGO  GDP (current US$)   \n",
       "\n",
       "   Indicator Code          1960          1961          1962          1963  \\\n",
       "0  NY.GDP.MKTP.CD           NaN           NaN           NaN           NaN   \n",
       "1  NY.GDP.MKTP.CD  2.421063e+10  2.496398e+10  2.707880e+10  3.177575e+10   \n",
       "2  NY.GDP.MKTP.CD           NaN           NaN           NaN           NaN   \n",
       "3  NY.GDP.MKTP.CD  1.190495e+10  1.270788e+10  1.363076e+10  1.446909e+10   \n",
       "4  NY.GDP.MKTP.CD           NaN           NaN           NaN           NaN   \n",
       "\n",
       "           1964          1965  ...          2016          2017          2018  \\\n",
       "0           NaN           NaN  ...  2.983635e+09  3.092429e+09  3.276184e+09   \n",
       "1  3.028579e+10  3.381317e+10  ...  8.289428e+11  9.729989e+11  1.012306e+12   \n",
       "2           NaN           NaN  ...  1.811657e+10  1.875346e+10  1.805322e+10   \n",
       "3  1.580376e+10  1.692109e+10  ...  6.943610e+11  6.878492e+11  7.704950e+11   \n",
       "4           NaN           NaN  ...  5.276162e+10  7.369015e+10  7.945069e+10   \n",
       "\n",
       "           2019          2020          2021          2022          2023  2024  \\\n",
       "0  3.395799e+09  2.481857e+09  2.929447e+09  3.279344e+09  3.648573e+09   NaN   \n",
       "1  1.009721e+12  9.333918e+11  1.085745e+12  1.191423e+12  1.245472e+12   NaN   \n",
       "2  1.879944e+10  1.995593e+10  1.426000e+10  1.449724e+10  1.723305e+10   NaN   \n",
       "3  8.264838e+11  7.898017e+11  8.493124e+11  8.839739e+11  7.991060e+11   NaN   \n",
       "4  7.089796e+10  4.850156e+10  6.650513e+10  1.043997e+11  8.482465e+10   NaN   \n",
       "\n",
       "   Unnamed: 69  \n",
       "0          NaN  \n",
       "1          NaN  \n",
       "2          NaN  \n",
       "3          NaN  \n",
       "4          NaN  \n",
       "\n",
       "[5 rows x 70 columns]"
      ]
     },
     "execution_count": 15,
     "metadata": {},
     "output_type": "execute_result"
    }
   ],
   "source": [
    "import pandas as pd\n",
    "import matplotlib.pyplot as plt\n",
    "\n",
    "\n",
    "# Load GDP data\n",
    "df = pd.read_csv(\"API_NY.GDP.MKTP.CD_DS2_en_csv_v2_19294.csv\", skiprows=4)\n",
    "df.head()"
   ]
  },
  {
   "cell_type": "markdown",
   "id": "17a064c1",
   "metadata": {},
   "source": [
    "### Dataset Overview\n",
    "\n",
    "The dataset contains GDP (current US$) data for all countries from 1960 to 2022. Each row represents a country, and each column from 1960 onward represents the GDP for that year.\n",
    "\n",
    "We will focus exclusively on the United States and perform trend analysis and visual exploration."
   ]
  },
  {
   "cell_type": "code",
   "execution_count": 16,
   "id": "e703c328",
   "metadata": {},
   "outputs": [
    {
     "data": {
      "application/vnd.microsoft.datawrangler.viewer.v0+json": {
       "columns": [
        {
         "name": "index",
         "rawType": "int64",
         "type": "integer"
        },
        {
         "name": "Year",
         "rawType": "object",
         "type": "string"
        },
        {
         "name": "GDP (US$)",
         "rawType": "float64",
         "type": "float"
        }
       ],
       "conversionMethod": "pd.DataFrame",
       "ref": "f9683e01-3ea7-4b87-8f2d-2a2820dba650",
       "rows": [
        [
         "0",
         "1960",
         "541988586206.897"
        ],
        [
         "1",
         "1961",
         "561940310344.828"
        ],
        [
         "2",
         "1962",
         "603639413793.103"
        ],
        [
         "3",
         "1963",
         "637058551724.138"
        ],
        [
         "4",
         "1964",
         "684144620689.655"
        ]
       ],
       "shape": {
        "columns": 2,
        "rows": 5
       }
      },
      "text/html": [
       "<div>\n",
       "<style scoped>\n",
       "    .dataframe tbody tr th:only-of-type {\n",
       "        vertical-align: middle;\n",
       "    }\n",
       "\n",
       "    .dataframe tbody tr th {\n",
       "        vertical-align: top;\n",
       "    }\n",
       "\n",
       "    .dataframe thead th {\n",
       "        text-align: right;\n",
       "    }\n",
       "</style>\n",
       "<table border=\"1\" class=\"dataframe\">\n",
       "  <thead>\n",
       "    <tr style=\"text-align: right;\">\n",
       "      <th></th>\n",
       "      <th>Year</th>\n",
       "      <th>GDP (US$)</th>\n",
       "    </tr>\n",
       "  </thead>\n",
       "  <tbody>\n",
       "    <tr>\n",
       "      <th>0</th>\n",
       "      <td>1960</td>\n",
       "      <td>5.419886e+11</td>\n",
       "    </tr>\n",
       "    <tr>\n",
       "      <th>1</th>\n",
       "      <td>1961</td>\n",
       "      <td>5.619403e+11</td>\n",
       "    </tr>\n",
       "    <tr>\n",
       "      <th>2</th>\n",
       "      <td>1962</td>\n",
       "      <td>6.036394e+11</td>\n",
       "    </tr>\n",
       "    <tr>\n",
       "      <th>3</th>\n",
       "      <td>1963</td>\n",
       "      <td>6.370586e+11</td>\n",
       "    </tr>\n",
       "    <tr>\n",
       "      <th>4</th>\n",
       "      <td>1964</td>\n",
       "      <td>6.841446e+11</td>\n",
       "    </tr>\n",
       "  </tbody>\n",
       "</table>\n",
       "</div>"
      ],
      "text/plain": [
       "   Year     GDP (US$)\n",
       "0  1960  5.419886e+11\n",
       "1  1961  5.619403e+11\n",
       "2  1962  6.036394e+11\n",
       "3  1963  6.370586e+11\n",
       "4  1964  6.841446e+11"
      ]
     },
     "execution_count": 16,
     "metadata": {},
     "output_type": "execute_result"
    }
   ],
   "source": [
    "# Filter for the US only\n",
    "us_gdp = df[df[\"Country Name\"] == \"United States\"]\n",
    "us_gdp = us_gdp.loc[:, \"1960\":\"2022\"].T  # Transpose for better year-based analysis\n",
    "us_gdp.columns = [\"GDP (US$)\"]\n",
    "us_gdp.index.name = \"Year\"\n",
    "us_gdp = us_gdp.reset_index()\n",
    "us_gdp.head()"
   ]
  },
  {
   "cell_type": "markdown",
   "id": "9423eeab",
   "metadata": {},
   "source": [
    "# U.S. GDP Trend Analysis Using World Bank Data\n",
    "\n",
    "This project explores the historical trend of the United States Gross Domestic Product (GDP) using data from the World Bank. The dataset provides GDP values from 1960 to 2022 in current U.S. dollars. By analyzing this data, we aim to uncover patterns of economic growth, identify significant shifts, and answer key questions about the U.S. economy over the past six decades."
   ]
  },
  {
   "cell_type": "markdown",
   "id": "75cd324b",
   "metadata": {},
   "source": [
    "### Key Questions to Explore\n",
    "\n",
    "1. What is the overall trend of U.S. GDP from 1960 to 2022?\n",
    "2. What are the top 5 highest GDP years? What are the lowest?\n",
    "3. What was the GDP growth rate each year?\n",
    "4. What is the average GDP per decade?\n",
    "5. Which decade had the fastest GDP growth?\n",
    "6. What was the impact of the 2008 crisis and COVID-19 on GDP?\n",
    "7. What is the overall compound annual growth rate (CAGR) from 1960 to 2022?"
   ]
  },
  {
   "cell_type": "markdown",
   "id": "1cded193",
   "metadata": {},
   "source": [
    "### Q1: What is the overall trend of U.S. GDP from 1960 to 2022?\n",
    "\n",
    "The first step in understanding the U.S. economy is visualizing the GDP growth over time. This helps identify long-term trends, patterns, and anomalies, such as recessions or rapid expansions."
   ]
  },
  {
   "cell_type": "code",
   "execution_count": 30,
   "id": "1d2969a2",
   "metadata": {},
   "outputs": [
    {
     "data": {
      "image/png": "[encoded data removed]",
      "text/plain": [
       "<Figure size 640x480 with 1 Axes>"
      ]
     },
     "metadata": {},
     "output_type": "display_data"
    }
   ],
   "source": [
    "# Plot the GDP trend\n",
    "plt.plot(us_gdp[\"Year\"], us_gdp[\"GDP (US$)\"] / 1e12)\n",
    "plt.title(\"U.S. GDP (1960–2022)\", fontsize=16)\n",
    "plt.xlabel(\"Year\", fontsize=12)\n",
    "plt.ylabel(\"GDP (in Trillions USD)\", fontsize=12)\n",
    "plt.grid(True)\n",
    "plt.xticks(ticks=range(1960, 2025, 5))\n",
    "plt.show()"
   ]
  },
  {
   "cell_type": "markdown",
   "id": "62c03d45",
   "metadata": {},
   "source": [
    "### Q2: What are the top 5 and bottom 5 years in terms of U.S. GDP?\n",
    "\n",
    "By identifying the best and worst GDP years, we can pinpoint major turning points in the U.S. economy, including times of crisis or significant growth."
   ]
  },
  {
   "cell_type": "code",
   "execution_count": 18,
   "id": "8c7f5d55",
   "metadata": {},
   "outputs": [
    {
     "name": "stdout",
     "output_type": "stream",
     "text": [
      "Top 5 GDP Years:\n",
      "    Year     GDP (US$)\n",
      "62  2022  2.600689e+13\n",
      "61  2021  2.368117e+13\n",
      "59  2019  2.153998e+13\n",
      "60  2020  2.135410e+13\n",
      "58  2018  2.065652e+13\n",
      "\n",
      "Bottom 5 GDP Years:\n",
      "   Year     GDP (US$)\n",
      "0  1960  5.419886e+11\n",
      "1  1961  5.619403e+11\n",
      "2  1962  6.036394e+11\n",
      "3  1963  6.370586e+11\n",
      "4  1964  6.841446e+11\n"
     ]
    }
   ],
   "source": [
    "# Top 5 years\n",
    "top_5 = us_gdp.sort_values(by=\"GDP (US$)\", ascending=False).head()\n",
    "print(\"Top 5 GDP Years:\")\n",
    "print(top_5)\n",
    "\n",
    "# Bottom 5 years\n",
    "bottom_5 = us_gdp.sort_values(by=\"GDP (US$)\").head()\n",
    "print(\"\\nBottom 5 GDP Years:\")\n",
    "print(bottom_5)"
   ]
  },
  {
   "cell_type": "markdown",
   "id": "62155de4",
   "metadata": {},
   "source": [
    "### Q3: What was the GDP growth rate each year?\n",
    "\n",
    "To measure how the U.S. economy changed year to year, we calculate the percentage change in GDP. This helps identify rapid expansions, contractions, or years of stagnation."
   ]
  },
  {
   "cell_type": "code",
   "execution_count": 19,
   "id": "02a89c59",
   "metadata": {},
   "outputs": [
    {
     "data": {
      "application/vnd.microsoft.datawrangler.viewer.v0+json": {
       "columns": [
        {
         "name": "index",
         "rawType": "int64",
         "type": "integer"
        },
        {
         "name": "Year",
         "rawType": "object",
         "type": "string"
        },
        {
         "name": "GDP (US$)",
         "rawType": "float64",
         "type": "float"
        },
        {
         "name": "GDP Growth Rate (%)",
         "rawType": "float64",
         "type": "float"
        }
       ],
       "conversionMethod": "pd.DataFrame",
       "ref": "0818036a-4614-4d4b-bd04-f577b37e0747",
       "rows": [
        [
         "0",
         "1960",
         "541988586206.897",
         null
        ],
        [
         "1",
         "1961",
         "561940310344.828",
         "3.6812074360390135"
        ],
        [
         "2",
         "1962",
         "603639413793.103",
         "7.42055742943355"
        ],
        [
         "3",
         "1963",
         "637058551724.138",
         "5.536274995868529"
        ],
        [
         "4",
         "1964",
         "684144620689.655",
         "7.391168180394581"
        ],
        [
         "5",
         "1965",
         "741904862068.965",
         "8.44269466316705"
        ],
        [
         "6",
         "1966",
         "813032758620.69",
         "9.587199139438063"
        ],
        [
         "7",
         "1967",
         "859620034482.759",
         "5.730061349693272"
        ],
        [
         "8",
         "1968",
         "940225000000.0",
         "9.376813276082107"
        ],
        [
         "9",
         "1969",
         "1017438172413.79",
         "8.212201591511615"
        ]
       ],
       "shape": {
        "columns": 3,
        "rows": 10
       }
      },
      "text/html": [
       "<div>\n",
       "<style scoped>\n",
       "    .dataframe tbody tr th:only-of-type {\n",
       "        vertical-align: middle;\n",
       "    }\n",
       "\n",
       "    .dataframe tbody tr th {\n",
       "        vertical-align: top;\n",
       "    }\n",
       "\n",
       "    .dataframe thead th {\n",
       "        text-align: right;\n",
       "    }\n",
       "</style>\n",
       "<table border=\"1\" class=\"dataframe\">\n",
       "  <thead>\n",
       "    <tr style=\"text-align: right;\">\n",
       "      <th></th>\n",
       "      <th>Year</th>\n",
       "      <th>GDP (US$)</th>\n",
       "      <th>GDP Growth Rate (%)</th>\n",
       "    </tr>\n",
       "  </thead>\n",
       "  <tbody>\n",
       "    <tr>\n",
       "      <th>0</th>\n",
       "      <td>1960</td>\n",
       "      <td>5.419886e+11</td>\n",
       "      <td>NaN</td>\n",
       "    </tr>\n",
       "    <tr>\n",
       "      <th>1</th>\n",
       "      <td>1961</td>\n",
       "      <td>5.619403e+11</td>\n",
       "      <td>3.681207</td>\n",
       "    </tr>\n",
       "    <tr>\n",
       "      <th>2</th>\n",
       "      <td>1962</td>\n",
       "      <td>6.036394e+11</td>\n",
       "      <td>7.420557</td>\n",
       "    </tr>\n",
       "    <tr>\n",
       "      <th>3</th>\n",
       "      <td>1963</td>\n",
       "      <td>6.370586e+11</td>\n",
       "      <td>5.536275</td>\n",
       "    </tr>\n",
       "    <tr>\n",
       "      <th>4</th>\n",
       "      <td>1964</td>\n",
       "      <td>6.841446e+11</td>\n",
       "      <td>7.391168</td>\n",
       "    </tr>\n",
       "    <tr>\n",
       "      <th>5</th>\n",
       "      <td>1965</td>\n",
       "      <td>7.419049e+11</td>\n",
       "      <td>8.442695</td>\n",
       "    </tr>\n",
       "    <tr>\n",
       "      <th>6</th>\n",
       "      <td>1966</td>\n",
       "      <td>8.130328e+11</td>\n",
       "      <td>9.587199</td>\n",
       "    </tr>\n",
       "    <tr>\n",
       "      <th>7</th>\n",
       "      <td>1967</td>\n",
       "      <td>8.596200e+11</td>\n",
       "      <td>5.730061</td>\n",
       "    </tr>\n",
       "    <tr>\n",
       "      <th>8</th>\n",
       "      <td>1968</td>\n",
       "      <td>9.402250e+11</td>\n",
       "      <td>9.376813</td>\n",
       "    </tr>\n",
       "    <tr>\n",
       "      <th>9</th>\n",
       "      <td>1969</td>\n",
       "      <td>1.017438e+12</td>\n",
       "      <td>8.212202</td>\n",
       "    </tr>\n",
       "  </tbody>\n",
       "</table>\n",
       "</div>"
      ],
      "text/plain": [
       "   Year     GDP (US$)  GDP Growth Rate (%)\n",
       "0  1960  5.419886e+11                  NaN\n",
       "1  1961  5.619403e+11             3.681207\n",
       "2  1962  6.036394e+11             7.420557\n",
       "3  1963  6.370586e+11             5.536275\n",
       "4  1964  6.841446e+11             7.391168\n",
       "5  1965  7.419049e+11             8.442695\n",
       "6  1966  8.130328e+11             9.587199\n",
       "7  1967  8.596200e+11             5.730061\n",
       "8  1968  9.402250e+11             9.376813\n",
       "9  1969  1.017438e+12             8.212202"
      ]
     },
     "execution_count": 19,
     "metadata": {},
     "output_type": "execute_result"
    }
   ],
   "source": [
    "# Calculate year by year percentage change\n",
    "us_gdp[\"GDP Growth Rate (%)\"] = us_gdp[\"GDP (US$)\"].pct_change() * 100\n",
    "\n",
    "# Display the first few w growth rate\n",
    "us_gdp.head(10)"
   ]
  },
  {
   "cell_type": "markdown",
   "id": "e5c90dce",
   "metadata": {},
   "source": [
    "We can also visualize the annual GDP growth rate to easily spot spikes or drops."
   ]
  },
  {
   "cell_type": "code",
   "execution_count": 29,
   "id": "947ba050",
   "metadata": {},
   "outputs": [
    {
     "data": {
      "image/png": "[encoded data removed]",
      "text/plain": [
       "<Figure size 640x480 with 1 Axes>"
      ]
     },
     "metadata": {},
     "output_type": "display_data"
    }
   ],
   "source": [
    "# Plot growth rate\n",
    "\n",
    "plt.plot(us_gdp[\"Year\"], us_gdp[\"GDP Growth Rate (%)\"])\n",
    "plt.title(\"U.S. GDP Yearly Growth Rate (1961–2022)\", fontsize=14)\n",
    "plt.xlabel(\"Year\")\n",
    "plt.ylabel(\"Growth Rate (%)\")\n",
    "plt.grid(True)\n",
    "plt.xticks(ticks=range(1960, 2025, 5))\n",
    "plt.show()"
   ]
  },
  {
   "cell_type": "markdown",
   "id": "6d0cec52",
   "metadata": {},
   "source": [
    "### Q4: What is the average U.S. GDP per decade?\n",
    "\n",
    "Grouping GDP data by decade helps us understand how the U.S. economy evolved over longer time periods and smooth out short-term fluctuations."
   ]
  },
  {
   "cell_type": "code",
   "execution_count": 23,
   "id": "927a249c",
   "metadata": {},
   "outputs": [
    {
     "data": {
      "application/vnd.microsoft.datawrangler.viewer.v0+json": {
       "columns": [
        {
         "name": "index",
         "rawType": "int64",
         "type": "integer"
        },
        {
         "name": "Decade",
         "rawType": "int64",
         "type": "integer"
        },
        {
         "name": "GDP (Trillions)",
         "rawType": "float64",
         "type": "float"
        }
       ],
       "conversionMethod": "pd.DataFrame",
       "ref": "959fee03-e93e-427c-a09f-d3699a40fab6",
       "rows": [
        [
         "0",
         "1960",
         "0.7400992310344825"
        ],
        [
         "1",
         "1970",
         "1.7106956"
        ],
        [
         "2",
         "1980",
         "4.1731631"
        ],
        [
         "3",
         "1990",
         "7.5771807"
        ],
        [
         "4",
         "2000",
         "12.6012572"
        ],
        [
         "5",
         "2010",
         "18.0300026"
        ],
        [
         "6",
         "2020",
         "23.680723"
        ]
       ],
       "shape": {
        "columns": 2,
        "rows": 7
       }
      },
      "text/html": [
       "<div>\n",
       "<style scoped>\n",
       "    .dataframe tbody tr th:only-of-type {\n",
       "        vertical-align: middle;\n",
       "    }\n",
       "\n",
       "    .dataframe tbody tr th {\n",
       "        vertical-align: top;\n",
       "    }\n",
       "\n",
       "    .dataframe thead th {\n",
       "        text-align: right;\n",
       "    }\n",
       "</style>\n",
       "<table border=\"1\" class=\"dataframe\">\n",
       "  <thead>\n",
       "    <tr style=\"text-align: right;\">\n",
       "      <th></th>\n",
       "      <th>Decade</th>\n",
       "      <th>GDP (Trillions)</th>\n",
       "    </tr>\n",
       "  </thead>\n",
       "  <tbody>\n",
       "    <tr>\n",
       "      <th>0</th>\n",
       "      <td>1960</td>\n",
       "      <td>0.740099</td>\n",
       "    </tr>\n",
       "    <tr>\n",
       "      <th>1</th>\n",
       "      <td>1970</td>\n",
       "      <td>1.710696</td>\n",
       "    </tr>\n",
       "    <tr>\n",
       "      <th>2</th>\n",
       "      <td>1980</td>\n",
       "      <td>4.173163</td>\n",
       "    </tr>\n",
       "    <tr>\n",
       "      <th>3</th>\n",
       "      <td>1990</td>\n",
       "      <td>7.577181</td>\n",
       "    </tr>\n",
       "    <tr>\n",
       "      <th>4</th>\n",
       "      <td>2000</td>\n",
       "      <td>12.601257</td>\n",
       "    </tr>\n",
       "    <tr>\n",
       "      <th>5</th>\n",
       "      <td>2010</td>\n",
       "      <td>18.030003</td>\n",
       "    </tr>\n",
       "    <tr>\n",
       "      <th>6</th>\n",
       "      <td>2020</td>\n",
       "      <td>23.680723</td>\n",
       "    </tr>\n",
       "  </tbody>\n",
       "</table>\n",
       "</div>"
      ],
      "text/plain": [
       "   Decade  GDP (Trillions)\n",
       "0    1960         0.740099\n",
       "1    1970         1.710696\n",
       "2    1980         4.173163\n",
       "3    1990         7.577181\n",
       "4    2000        12.601257\n",
       "5    2010        18.030003\n",
       "6    2020        23.680723"
      ]
     },
     "execution_count": 23,
     "metadata": {},
     "output_type": "execute_result"
    }
   ],
   "source": [
    "# Create a new column for decade\n",
    "us_gdp[\"Year\"] = us_gdp[\"Year\"].astype(int)\n",
    "us_gdp[\"Decade\"] = (us_gdp[\"Year\"] // 10) * 10\n",
    "\n",
    "# Group by decade and calculate avg GDP\n",
    "decade_avg = us_gdp.groupby(\"Decade\")[\"GDP (US$)\"].mean().reset_index()\n",
    "\n",
    "# Convert GDP to trillions\n",
    "decade_avg[\"GDP (Trillions)\"] = decade_avg[\"GDP (US$)\"] / 1e12\n",
    "decade_avg = decade_avg[[\"Decade\", \"GDP (Trillions)\"]]\n",
    "decade_avg"
   ]
  },
  {
   "cell_type": "markdown",
   "id": "0065726f",
   "metadata": {},
   "source": [
    "The following bar chart shows the average GDP per decade in trillions of U.S. dollars."
   ]
  },
  {
   "cell_type": "code",
   "execution_count": 24,
   "id": "d4251b9a",
   "metadata": {},
   "outputs": [
    {
     "data": {
      "image/png": "[encoded data removed]",
      "text/plain": [
       "<Figure size 640x480 with 1 Axes>"
      ]
     },
     "metadata": {},
     "output_type": "display_data"
    }
   ],
   "source": [
    "# Plot the avg GDP per decade\n",
    "plt.bar(decade_avg[\"Decade\"], decade_avg[\"GDP (Trillions)\"])\n",
    "plt.title(\"Average U.S. GDP per Decade\", fontsize=14)\n",
    "plt.xlabel(\"Decade\")\n",
    "plt.ylabel(\"Average GDP (Trillions USD)\")\n",
    "plt.xticks(decade_avg[\"Decade\"])\n",
    "plt.grid(axis=\"y\")\n",
    "plt.show()"
   ]
  },
  {
   "cell_type": "markdown",
   "id": "adb2bc80",
   "metadata": {},
   "source": [
    "### Q5: Which decade had the fastest GDP growth?\n",
    "\n",
    "To measure economic momentum across decades, we compute the percent change in average GDP from one decade to the next. This helps identify when the US economy accelerated the most."
   ]
  },
  {
   "cell_type": "code",
   "execution_count": 25,
   "id": "92e01d02",
   "metadata": {},
   "outputs": [
    {
     "data": {
      "application/vnd.microsoft.datawrangler.viewer.v0+json": {
       "columns": [
        {
         "name": "index",
         "rawType": "int64",
         "type": "integer"
        },
        {
         "name": "Decade",
         "rawType": "int64",
         "type": "integer"
        },
        {
         "name": "GDP (Trillions)",
         "rawType": "float64",
         "type": "float"
        },
        {
         "name": "Growth Rate (%)",
         "rawType": "float64",
         "type": "float"
        }
       ],
       "conversionMethod": "pd.DataFrame",
       "ref": "7aa7ead1-4c08-4985-8cd6-72b4f95215c2",
       "rows": [
        [
         "2",
         "1980",
         "4.1731631",
         "143.94539273965515"
        ],
        [
         "1",
         "1970",
         "1.7106956",
         "131.14408558550386"
        ],
        [
         "3",
         "1990",
         "7.5771807",
         "81.56924420231744"
        ],
        [
         "4",
         "2000",
         "12.6012572",
         "66.30535418008441"
        ],
        [
         "5",
         "2010",
         "18.0300026",
         "43.08098242768983"
        ],
        [
         "6",
         "2020",
         "23.680723",
         "31.340652163854934"
        ]
       ],
       "shape": {
        "columns": 3,
        "rows": 6
       }
      },
      "text/html": [
       "<div>\n",
       "<style scoped>\n",
       "    .dataframe tbody tr th:only-of-type {\n",
       "        vertical-align: middle;\n",
       "    }\n",
       "\n",
       "    .dataframe tbody tr th {\n",
       "        vertical-align: top;\n",
       "    }\n",
       "\n",
       "    .dataframe thead th {\n",
       "        text-align: right;\n",
       "    }\n",
       "</style>\n",
       "<table border=\"1\" class=\"dataframe\">\n",
       "  <thead>\n",
       "    <tr style=\"text-align: right;\">\n",
       "      <th></th>\n",
       "      <th>Decade</th>\n",
       "      <th>GDP (Trillions)</th>\n",
       "      <th>Growth Rate (%)</th>\n",
       "    </tr>\n",
       "  </thead>\n",
       "  <tbody>\n",
       "    <tr>\n",
       "      <th>2</th>\n",
       "      <td>1980</td>\n",
       "      <td>4.173163</td>\n",
       "      <td>143.945393</td>\n",
       "    </tr>\n",
       "    <tr>\n",
       "      <th>1</th>\n",
       "      <td>1970</td>\n",
       "      <td>1.710696</td>\n",
       "      <td>131.144086</td>\n",
       "    </tr>\n",
       "    <tr>\n",
       "      <th>3</th>\n",
       "      <td>1990</td>\n",
       "      <td>7.577181</td>\n",
       "      <td>81.569244</td>\n",
       "    </tr>\n",
       "    <tr>\n",
       "      <th>4</th>\n",
       "      <td>2000</td>\n",
       "      <td>12.601257</td>\n",
       "      <td>66.305354</td>\n",
       "    </tr>\n",
       "    <tr>\n",
       "      <th>5</th>\n",
       "      <td>2010</td>\n",
       "      <td>18.030003</td>\n",
       "      <td>43.080982</td>\n",
       "    </tr>\n",
       "    <tr>\n",
       "      <th>6</th>\n",
       "      <td>2020</td>\n",
       "      <td>23.680723</td>\n",
       "      <td>31.340652</td>\n",
       "    </tr>\n",
       "  </tbody>\n",
       "</table>\n",
       "</div>"
      ],
      "text/plain": [
       "   Decade  GDP (Trillions)  Growth Rate (%)\n",
       "2    1980         4.173163       143.945393\n",
       "1    1970         1.710696       131.144086\n",
       "3    1990         7.577181        81.569244\n",
       "4    2000        12.601257        66.305354\n",
       "5    2010        18.030003        43.080982\n",
       "6    2020        23.680723        31.340652"
      ]
     },
     "execution_count": 25,
     "metadata": {},
     "output_type": "execute_result"
    }
   ],
   "source": [
    "# Calculate decade by decade GDP growth rate (in trillions)\n",
    "decade_avg[\"Growth Rate (%)\"] = decade_avg[\"GDP (Trillions)\"].pct_change() * 100\n",
    "\n",
    "# Drop the first row since its growth is NaN\n",
    "fastest_growth = decade_avg.dropna().sort_values(\"Growth Rate (%)\", ascending=False)\n",
    "fastest_growth"
   ]
  },
  {
   "cell_type": "markdown",
   "id": "7144c40f",
   "metadata": {},
   "source": [
    "The table below shows the growth rates by decade. The highest growth rate indicates the fastest expanding decade."
   ]
  },
  {
   "cell_type": "code",
   "execution_count": 26,
   "id": "4abf51fc",
   "metadata": {},
   "outputs": [
    {
     "data": {
      "image/png": "[encoded data removed]",
      "text/plain": [
       "<Figure size 640x480 with 1 Axes>"
      ]
     },
     "metadata": {},
     "output_type": "display_data"
    }
   ],
   "source": [
    "# Plot growth rate by decade\n",
    "plt.bar(fastest_growth[\"Decade\"], fastest_growth[\"Growth Rate (%)\"])\n",
    "plt.title(\"Decade-over-Decade U.S. GDP Growth Rate\", fontsize=14)\n",
    "plt.xlabel(\"Decade\")\n",
    "plt.ylabel(\"Growth Rate (%)\")\n",
    "plt.grid(axis=\"y\")\n",
    "plt.tight_layout()\n",
    "plt.show()"
   ]
  },
  {
   "cell_type": "markdown",
   "id": "98751e83",
   "metadata": {},
   "source": [
    "### Q6: How did the 2008 financial crisis and COVID-19 pandemic affect U.S. GDP?\n",
    "\n",
    "Economic crises like the 2008 housing market collapse and the 2020 COVID-19 pandemic had major impacts on the U.S. economy. We examine the year-over-year GDP changes around 2008–2009 and 2019–2020 to understand how severe the declines were."
   ]
  },
  {
   "cell_type": "code",
   "execution_count": 27,
   "id": "e404ab93",
   "metadata": {},
   "outputs": [
    {
     "data": {
      "application/vnd.microsoft.datawrangler.viewer.v0+json": {
       "columns": [
        {
         "name": "index",
         "rawType": "int64",
         "type": "integer"
        },
        {
         "name": "Year",
         "rawType": "int64",
         "type": "integer"
        },
        {
         "name": "GDP (US$)",
         "rawType": "float64",
         "type": "float"
        },
        {
         "name": "GDP Growth Rate (%)",
         "rawType": "float64",
         "type": "float"
        }
       ],
       "conversionMethod": "pd.DataFrame",
       "ref": "aeb8c4f0-2c81-405e-8f50-86c02b0df54b",
       "rows": [
        [
         "47",
         "2007",
         "14474228000000.0",
         "4.767406485850079"
        ],
        [
         "48",
         "2008",
         "14769862000000.0",
         "2.0424854437832485"
        ],
        [
         "49",
         "2009",
         "14478067000000.0",
         "-1.9756108757143398"
        ],
        [
         "59",
         "2019",
         "21539982000000.0",
         "4.27693614934872"
        ],
        [
         "60",
         "2020",
         "21354105000000.0",
         "-0.8629394397822621"
        ],
        [
         "61",
         "2021",
         "23681171000000.0",
         "10.897511274764259"
        ]
       ],
       "shape": {
        "columns": 3,
        "rows": 6
       }
      },
      "text/html": [
       "<div>\n",
       "<style scoped>\n",
       "    .dataframe tbody tr th:only-of-type {\n",
       "        vertical-align: middle;\n",
       "    }\n",
       "\n",
       "    .dataframe tbody tr th {\n",
       "        vertical-align: top;\n",
       "    }\n",
       "\n",
       "    .dataframe thead th {\n",
       "        text-align: right;\n",
       "    }\n",
       "</style>\n",
       "<table border=\"1\" class=\"dataframe\">\n",
       "  <thead>\n",
       "    <tr style=\"text-align: right;\">\n",
       "      <th></th>\n",
       "      <th>Year</th>\n",
       "      <th>GDP (US$)</th>\n",
       "      <th>GDP Growth Rate (%)</th>\n",
       "    </tr>\n",
       "  </thead>\n",
       "  <tbody>\n",
       "    <tr>\n",
       "      <th>47</th>\n",
       "      <td>2007</td>\n",
       "      <td>1.447423e+13</td>\n",
       "      <td>4.767406</td>\n",
       "    </tr>\n",
       "    <tr>\n",
       "      <th>48</th>\n",
       "      <td>2008</td>\n",
       "      <td>1.476986e+13</td>\n",
       "      <td>2.042485</td>\n",
       "    </tr>\n",
       "    <tr>\n",
       "      <th>49</th>\n",
       "      <td>2009</td>\n",
       "      <td>1.447807e+13</td>\n",
       "      <td>-1.975611</td>\n",
       "    </tr>\n",
       "    <tr>\n",
       "      <th>59</th>\n",
       "      <td>2019</td>\n",
       "      <td>2.153998e+13</td>\n",
       "      <td>4.276936</td>\n",
       "    </tr>\n",
       "    <tr>\n",
       "      <th>60</th>\n",
       "      <td>2020</td>\n",
       "      <td>2.135410e+13</td>\n",
       "      <td>-0.862939</td>\n",
       "    </tr>\n",
       "    <tr>\n",
       "      <th>61</th>\n",
       "      <td>2021</td>\n",
       "      <td>2.368117e+13</td>\n",
       "      <td>10.897511</td>\n",
       "    </tr>\n",
       "  </tbody>\n",
       "</table>\n",
       "</div>"
      ],
      "text/plain": [
       "    Year     GDP (US$)  GDP Growth Rate (%)\n",
       "47  2007  1.447423e+13             4.767406\n",
       "48  2008  1.476986e+13             2.042485\n",
       "49  2009  1.447807e+13            -1.975611\n",
       "59  2019  2.153998e+13             4.276936\n",
       "60  2020  2.135410e+13            -0.862939\n",
       "61  2021  2.368117e+13            10.897511"
      ]
     },
     "execution_count": 27,
     "metadata": {},
     "output_type": "execute_result"
    }
   ],
   "source": [
    "# Select the years of we care about\n",
    "crisis_years = us_gdp[us_gdp[\"Year\"].isin([2007, 2008, 2009, 2019, 2020, 2021])]\n",
    "\n",
    "# Display GDP and growth rate for those years\n",
    "crisis_years[[\"Year\", \"GDP (US$)\", \"GDP Growth Rate (%)\"]]"
   ]
  },
  {
   "cell_type": "markdown",
   "id": "bc911a42",
   "metadata": {},
   "source": [
    "### Q7: What is the compound annual growth rate (CAGR) of U.S. GDP from 1960 to 2022?\n",
    "\n",
    "CAGR shows the average annual rate at which GDP grew over the entire period, assuming steady growth. It’s useful for summarizing long-term performance."
   ]
  },
  {
   "cell_type": "code",
   "execution_count": 28,
   "id": "cb7979cd",
   "metadata": {},
   "outputs": [
    {
     "name": "stdout",
     "output_type": "stream",
     "text": [
      "Compound Annual Growth Rate (1960–2022): 6.44%\n"
     ]
    }
   ],
   "source": [
    "# Get start and end values\n",
    "start_year = 1960\n",
    "end_year = 2022\n",
    "start_value = us_gdp.loc[us_gdp[\"Year\"] == start_year, \"GDP (US$)\"].values[0]\n",
    "end_value = us_gdp.loc[us_gdp[\"Year\"] == end_year, \"GDP (US$)\"].values[0]\n",
    "n_years = end_year - start_year\n",
    "\n",
    "# Calculate CAGR\n",
    "cagr = ((end_value / start_value) ** (1 / n_years) - 1) * 100\n",
    "print(f\"Compound Annual Growth Rate (1960–2022): {cagr:.2f}%\")"
   ]
  },
  {
   "cell_type": "markdown",
   "id": "a0f3d0f0",
   "metadata": {},
   "source": [
    "### Final Insights\n",
    "\n",
    "After analyzing over 60 years of U.S. GDP data, a few big takeaways stood out. First, the overall trend is clear: the U.S. economy has grown massively since 1960, going from around $500 billion to over $25 trillion in 2022. That’s a huge jump and shows how much the country’s economic power has expanded.\n",
    "\n",
    "The fastest growing decade was the 1980s, which saw a big boost in GDP compared to the previous decade. On the flip side, two major drops in GDP happened during the 2008 financial crisis and the COVID-19 pandemic in 2020. Those years showed just how quickly economic growth can be interrupted by real world events.\n",
    "\n",
    "Even with those setbacks, the long-term picture is strong. The U.S. maintained a compound annual growth rate (CAGR) of about **6.44%** from 1960 to 2022. That steady average over six decades shows the overall resilience of the economy.\n",
    "\n",
    "This project helped me understand not just how to clean and analyze data, but also how real events like recessions and pandemics leave a clear mark on economic numbers. It was cool to connect code and visuals to real life history."
   ]
  }
 ],
 "metadata": {
  "kernelspec": {
   "display_name": "base",
   "language": "python",
   "name": "python3"
  },
  "language_info": {
   "codemirror_mode": {
    "name": "ipython",
    "version": 3
   },
   "file_extension": ".py",
   "mimetype": "text/x-python",
   "name": "python",
   "nbconvert_exporter": "python",
   "pygments_lexer": "ipython3",
   "version": "3.12.7"
  }
 },
 "nbformat": 4,
 "nbformat_minor": 5
}
